{
 "cells": [
  {
   "cell_type": "code",
   "execution_count": 1,
   "metadata": {},
   "outputs": [],
   "source": [
    "import pandas as pd\n",
    "from pandas import DataFrame\n",
    "from datetime import datetime\n",
    "from sklearn.linear_model import LinearRegression\n",
    "from sklearn.metrics import mean_absolute_error, mean_squared_error\n",
    "import numpy as np"
   ]
  },
  {
   "cell_type": "code",
   "execution_count": 2,
   "metadata": {},
   "outputs": [],
   "source": [
    "#Read in the data set\n",
    "df = pd.read_csv(r'C:\\Users\\user\\Desktop\\Data Scientist Course\\Predicting the stock market\\sphist.csv')\n",
    "df['Date'] = pd.to_datetime(df['Date'])"
   ]
  },
  {
   "cell_type": "code",
   "execution_count": 3,
   "metadata": {},
   "outputs": [],
   "source": [
    "#Sort by the date column in ascending order\n",
    "df = df.sort_values(\"Date\", ascending=True)"
   ]
  },
  {
   "cell_type": "code",
   "execution_count": 4,
   "metadata": {},
   "outputs": [],
   "source": [
    "#Add features that could be helpful for machine learning\n",
    "df['5 Days Open'] = df['Open'].rolling(window=5).mean()\n",
    "df['5 Days High'] = df['High'].rolling(window=5).mean()\n",
    "df['5 Days Low'] = df['Low'].rolling(window=5).mean()\n",
    "df['5 Days Volume'] = df['Volume'].rolling(window=5).mean()\n",
    "df['Year'] = df['Date'].apply(lambda x: x.year)"
   ]
  },
  {
   "cell_type": "code",
   "execution_count": 5,
   "metadata": {},
   "outputs": [],
   "source": [
    "#Adding Day of week column and set it to categorical\n",
    "df['DOW'] = df['Date'].apply(lambda x: x.weekday())\n",
    "dow_df = pd.get_dummies(df['DOW'])\n",
    "df = pd.concat([df, dow_df], axis=1)\n",
    "df = df.drop(['DOW'], axis=1)"
   ]
  },
  {
   "cell_type": "code",
   "execution_count": 6,
   "metadata": {},
   "outputs": [],
   "source": [
    "#Because 'rolling' method above include the current date to compute, the current date include future knowledge, which means that the prediction will look not good in real world , so we shift all the values forward one day.\n",
    "df['5 Days Open'] = df['5 Days Open'].shift(1)\n",
    "df['5 Days High'] = df['5 Days High'].shift(1)\n",
    "df['5 Days Low'] = df['5 Days Low'].shift(1)\n",
    "df['5 Days Volume'] = df['5 Days Volume'].shift(1)"
   ]
  },
  {
   "cell_type": "code",
   "execution_count": 7,
   "metadata": {},
   "outputs": [],
   "source": [
    "df = df[df['Date'] >= datetime(year=1951, month=1, day=3)]\n",
    "df.dropna(axis=0)\n",
    "\n",
    "#Split dataset into train set and test set.\n",
    "train_df = df[df['Date'] < datetime(year=2013, month=1, day=1)]\n",
    "test_df = df[df['Date'] >= datetime(year=2013, month=1, day=1)]"
   ]
  },
  {
   "cell_type": "code",
   "execution_count": 8,
   "metadata": {},
   "outputs": [],
   "source": [
    "#Feature columns\n",
    "train_colums = ['5 Days Open', '5 Days Volume', '5 Days High', '5 Days Low', 'Year', 0, 1, 2, 3, 4]"
   ]
  },
  {
   "cell_type": "code",
   "execution_count": 9,
   "metadata": {},
   "outputs": [],
   "source": [
    "# Perform linear regression.\n",
    "lr = LinearRegression()\n",
    "lr.fit(train_df[train_colums], train_df['Close'])\n",
    "prediction = lr.predict(test_df[train_colums])"
   ]
  },
  {
   "cell_type": "code",
   "execution_count": 10,
   "metadata": {},
   "outputs": [],
   "source": [
    "test_df_copy = test_df.copy()\n",
    "test_df_copy['prediction_close'] = prediction\n",
    "test_df_copy['difference'] = abs(test_df_copy['Close'] - test_df_copy['prediction_close'])\n",
    "test_df_copy['accuracy(%)'] = (1-(abs(test_df_copy['Close'] - test_df_copy['prediction_close']) / test_df_copy['Close']\n",
    ")) * 100"
   ]
  },
  {
   "cell_type": "code",
   "execution_count": 13,
   "metadata": {},
   "outputs": [
    {
     "name": "stdout",
     "output_type": "stream",
     "text": [
      "mse: 378.9356384494125\n",
      "rmse: 19.466269248354\n",
      "          Date        Close  prediction_close  difference  accuracy(%)\n",
      "738 2013-01-02  1462.420044       1409.290878   53.129166    96.367038\n",
      "737 2013-01-03  1459.369995       1429.899615   29.470380    97.980609\n",
      "736 2013-01-04  1466.469971       1438.455036   28.014935    98.089635\n",
      "735 2013-01-07  1461.890015       1456.820228    5.069787    99.653203\n",
      "734 2013-01-08  1457.150024       1469.353529   12.203505    99.162509\n",
      "733 2013-01-09  1461.020020       1465.772722    4.752702    99.674700\n",
      "732 2013-01-10  1472.119995       1456.688956   15.431039    98.951781\n",
      "731 2013-01-11  1472.050049       1463.666946    8.383103    99.430515\n",
      "730 2013-01-14  1470.680054       1460.167481   10.512573    99.285190\n",
      "729 2013-01-15  1472.339966       1462.878450    9.461516    99.357382\n"
     ]
    }
   ],
   "source": [
    "# Error metrics.\n",
    "mse = mean_squared_error(test_df['Close'], prediction)\n",
    "rmse = np.sqrt(mse)\n",
    "\n",
    "print('mse:',mse)\n",
    "print('rmse:',rmse)\n",
    "print(test_df_copy[['Date','Close','prediction_close','difference', 'accuracy(%)']].head(10))"
   ]
  }
 ],
 "metadata": {
  "kernelspec": {
   "display_name": "Python 3",
   "language": "python",
   "name": "python3"
  },
  "language_info": {
   "codemirror_mode": {
    "name": "ipython",
    "version": 3
   },
   "file_extension": ".py",
   "mimetype": "text/x-python",
   "name": "python",
   "nbconvert_exporter": "python",
   "pygments_lexer": "ipython3",
   "version": "3.6.4"
  }
 },
 "nbformat": 4,
 "nbformat_minor": 2
}
